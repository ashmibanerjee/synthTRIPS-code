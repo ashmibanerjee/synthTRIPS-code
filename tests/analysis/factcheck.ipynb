{
 "cells": [
  {
   "cell_type": "code",
   "execution_count": 26,
   "metadata": {},
   "outputs": [],
   "source": [
    "import pandas as pd \n",
    "import numpy as np \n",
    "import os \n",
    "import sys \n",
    "import re \n",
    "import json "
   ]
  },
  {
   "cell_type": "code",
   "execution_count": 27,
   "metadata": {},
   "outputs": [],
   "source": [
    "METHODS = ['v', 'p0', 'p1']"
   ]
  },
  {
   "cell_type": "code",
   "execution_count": 28,
   "metadata": {},
   "outputs": [
    {
     "name": "stdout",
     "output_type": "stream",
     "text": [
      "/shared/c-trs/travel-crs/tests/analysis\n"
     ]
    }
   ],
   "source": [
    "print(os.getcwd())"
   ]
  },
  {
   "cell_type": "code",
   "execution_count": 37,
   "metadata": {},
   "outputs": [],
   "source": [
    "gemini = pd.read_csv(\"../../data/conv-trs/eval/factcheck/gemini_factchecked_entailment.csv\")\n",
    "llama = pd.read_csv(\"../../data/conv-trs/eval/factcheck/llama_factchecked_entailment.csv\")"
   ]
  },
  {
   "cell_type": "code",
   "execution_count": 38,
   "metadata": {},
   "outputs": [
    {
     "name": "stdout",
     "output_type": "stream",
     "text": [
      "<class 'pandas.core.frame.DataFrame'>\n",
      "RangeIndex: 2302 entries, 0 to 2301\n",
      "Data columns (total 9 columns):\n",
      " #   Column             Non-Null Count  Dtype  \n",
      "---  ------             --------------  -----  \n",
      " 0   qg_model           2302 non-null   object \n",
      " 1   config_id          2302 non-null   object \n",
      " 2   context            2302 non-null   object \n",
      " 3   query_v            2302 non-null   object \n",
      " 4   factcheck_prob_v   2302 non-null   float64\n",
      " 5   query_p0           2302 non-null   object \n",
      " 6   factcheck_prob_p0  2302 non-null   float64\n",
      " 7   query_p1           2302 non-null   object \n",
      " 8   factcheck_prob_p1  2302 non-null   float64\n",
      "dtypes: float64(3), object(6)\n",
      "memory usage: 162.0+ KB\n"
     ]
    }
   ],
   "source": [
    "gemini.info()"
   ]
  },
  {
   "cell_type": "code",
   "execution_count": 39,
   "metadata": {},
   "outputs": [],
   "source": [
    "def print_avg(df):\n",
    "    for method in METHODS:\n",
    "        print(f\"Average entailment probability for query_{method}: {df[f'factcheck_prob_{method}'].mean()}\")"
   ]
  },
  {
   "cell_type": "code",
   "execution_count": 40,
   "metadata": {},
   "outputs": [
    {
     "name": "stdout",
     "output_type": "stream",
     "text": [
      "Average entailment probability for query_v: 0.23706754820148657\n",
      "Average entailment probability for query_p0: 0.08856697798484882\n",
      "Average entailment probability for query_p1: 0.014445725118892654\n"
     ]
    }
   ],
   "source": [
    "print_avg(gemini)"
   ]
  },
  {
   "cell_type": "code",
   "execution_count": 41,
   "metadata": {},
   "outputs": [
    {
     "name": "stdout",
     "output_type": "stream",
     "text": [
      "Average entailment probability for query_v: 0.20637157906071776\n",
      "Average entailment probability for query_p0: 0.0671080412002495\n",
      "Average entailment probability for query_p1: 0.015405436481739936\n"
     ]
    }
   ],
   "source": [
    "print_avg(llama)"
   ]
  },
  {
   "cell_type": "code",
   "execution_count": 49,
   "metadata": {},
   "outputs": [],
   "source": [
    "def mean_normalized(df):\n",
    "    df1 = df[[f'factcheck_prob_{method}' for method in METHODS]]\n",
    "    df1 = df1.div(df1.sum(axis=1), axis=0)\n",
    "\n",
    "    column_means = df1.mean().round(3)\n",
    "\n",
    "    print(column_means)\n",
    "    "
   ]
  },
  {
   "cell_type": "code",
   "execution_count": 50,
   "metadata": {},
   "outputs": [
    {
     "name": "stdout",
     "output_type": "stream",
     "text": [
      "factcheck_prob_v     0.615\n",
      "factcheck_prob_p0    0.270\n",
      "factcheck_prob_p1    0.114\n",
      "dtype: float64\n"
     ]
    }
   ],
   "source": [
    "mean_normalized(gemini)"
   ]
  },
  {
   "cell_type": "code",
   "execution_count": 51,
   "metadata": {},
   "outputs": [
    {
     "name": "stdout",
     "output_type": "stream",
     "text": [
      "factcheck_prob_v     0.612\n",
      "factcheck_prob_p0    0.250\n",
      "factcheck_prob_p1    0.139\n",
      "dtype: float64\n"
     ]
    }
   ],
   "source": [
    "mean_normalized(llama)"
   ]
  },
  {
   "cell_type": "code",
   "execution_count": 45,
   "metadata": {},
   "outputs": [
    {
     "name": "stdout",
     "output_type": "stream",
     "text": [
      "<class 'pandas.core.frame.DataFrame'>\n",
      "RangeIndex: 2302 entries, 0 to 2301\n",
      "Data columns (total 9 columns):\n",
      " #   Column             Non-Null Count  Dtype  \n",
      "---  ------             --------------  -----  \n",
      " 0   qg_model           2302 non-null   object \n",
      " 1   config_id          2302 non-null   object \n",
      " 2   context            2302 non-null   object \n",
      " 3   query_v            2302 non-null   object \n",
      " 4   factcheck_prob_v   2302 non-null   float64\n",
      " 5   query_p0           2302 non-null   object \n",
      " 6   factcheck_prob_p0  2302 non-null   float64\n",
      " 7   query_p1           2302 non-null   object \n",
      " 8   factcheck_prob_p1  2302 non-null   float64\n",
      "dtypes: float64(3), object(6)\n",
      "memory usage: 162.0+ KB\n"
     ]
    }
   ],
   "source": [
    "llama.info()"
   ]
  },
  {
   "cell_type": "code",
   "execution_count": null,
   "metadata": {},
   "outputs": [],
   "source": []
  }
 ],
 "metadata": {
  "kernelspec": {
   "display_name": ".venv",
   "language": "python",
   "name": "python3"
  },
  "language_info": {
   "codemirror_mode": {
    "name": "ipython",
    "version": 3
   },
   "file_extension": ".py",
   "mimetype": "text/x-python",
   "name": "python",
   "nbconvert_exporter": "python",
   "pygments_lexer": "ipython3",
   "version": "3.10.12"
  }
 },
 "nbformat": 4,
 "nbformat_minor": 2
}
