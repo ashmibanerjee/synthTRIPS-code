{
  "nbformat": 4,
  "nbformat_minor": 0,
  "metadata": {
    "colab": {
      "provenance": [],
      "authorship_tag": "ABX9TyNwUU5gkJcgNV3m/mcd/njh",
      "include_colab_link": true
    },
    "kernelspec": {
      "name": "python3",
      "display_name": "Python 3"
    },
    "language_info": {
      "name": "python"
    }
  },
  "cells": [
    {
      "cell_type": "markdown",
      "metadata": {
        "id": "view-in-github",
        "colab_type": "text"
      },
      "source": [
        "<a href=\"https://colab.research.google.com/github/ashmibanerjee/synthTRIPS-code/blob/main/SynthTRIPS_Query_Gen_Pipeline.ipynb\" target=\"_parent\"><img src=\"https://colab.research.google.com/assets/colab-badge.svg\" alt=\"Open In Colab\"/></a>"
      ]
    },
    {
      "cell_type": "code",
      "execution_count": 1,
      "metadata": {
        "id": "yj8TCrnF1mgF"
      },
      "outputs": [],
      "source": [
        "import pandas as pd"
      ]
    },
    {
      "cell_type": "code",
      "source": [],
      "metadata": {
        "id": "nHqqL5mV1umj"
      },
      "execution_count": null,
      "outputs": []
    },
    {
      "cell_type": "markdown",
      "source": [
        "## Query Generation Pipeline"
      ],
      "metadata": {
        "id": "2WK8LqB31wuD"
      }
    },
    {
      "cell_type": "code",
      "source": [],
      "metadata": {
        "id": "3foCVpRp1zga"
      },
      "execution_count": null,
      "outputs": []
    },
    {
      "cell_type": "markdown",
      "source": [
        "## Evaluation"
      ],
      "metadata": {
        "id": "ixoIt19n10HV"
      }
    },
    {
      "cell_type": "code",
      "source": [],
      "metadata": {
        "id": "sSoAqhl-12Eh"
      },
      "execution_count": null,
      "outputs": []
    }
  ]
}